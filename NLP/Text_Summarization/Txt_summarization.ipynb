{
  "nbformat": 4,
  "nbformat_minor": 0,
  "metadata": {
    "colab": {
      "provenance": []
    },
    "kernelspec": {
      "name": "python3",
      "display_name": "Python 3"
    },
    "language_info": {
      "name": "python"
    }
  },
  "cells": [
    {
      "cell_type": "code",
      "source": [
        "import nltk\n",
        "nltk.download('stopwords')\n",
        "nltk.download('punkt')\n"
      ],
      "metadata": {
        "colab": {
          "base_uri": "https://localhost:8080/"
        },
        "id": "s67iWaTT0gir",
        "outputId": "59d0a8fc-f88b-4e1b-dbd0-eb5358547a35"
      },
      "execution_count": 1,
      "outputs": [
        {
          "output_type": "stream",
          "name": "stderr",
          "text": [
            "[nltk_data] Downloading package stopwords to /root/nltk_data...\n",
            "[nltk_data]   Unzipping corpora/stopwords.zip.\n",
            "[nltk_data] Downloading package punkt to /root/nltk_data...\n",
            "[nltk_data]   Unzipping tokenizers/punkt.zip.\n"
          ]
        },
        {
          "output_type": "execute_result",
          "data": {
            "text/plain": [
              "True"
            ]
          },
          "metadata": {},
          "execution_count": 1
        }
      ]
    },
    {
      "cell_type": "code",
      "execution_count": 2,
      "metadata": {
        "colab": {
          "base_uri": "https://localhost:8080/"
        },
        "id": "P7icYG8f0VOQ",
        "outputId": "9d047812-8338-46d1-a9d2-77d018f786eb"
      },
      "outputs": [
        {
          "output_type": "stream",
          "name": "stdout",
          "text": [
            " [35]\n",
            " Python consistently ranks as one of the most popular programming languages, and has gained widespread use in the machine learning community. [36][37][38][39]\n",
            " Python was conceived in the late 1980s[40] by Guido van Rossum at Centrum Wiskunde & Informatica (CWI) in the Netherlands as a successor to the ABC programming language, which was inspired by SETL,[41] capable of exception handling and interfacing with the Amoeba operating system. [42] Van Rossum shouldered sole responsibility for the project, as the lead developer, until 12 July 2018, when he announced his \"permanent vacation\" from his responsibilities as Python's \"benevolent dictator for life\", a title the Python community bestowed upon him to reflect his long-term commitment as the project's chief decision-maker. [43] In January 2019, active Python core developers elected a five-member Steering Council to lead the project. [44][45]\n",
            " Python 2.0 was released on 16 October 2000, with many major new features such as list comprehensions, cycle-detecting garbage collection, reference counting, and Unicode support. [46] Python 3.0, released on 3 December 2008, with many of its major features backported to Python 2.6.x[47] and 2.7.x. [48]\n",
            " Python 2.7's end-of-life was initially set for 2015, then postponed to 2020 out of concern that a large body of existing code could not easily be forward-ported to Python 3. [54]\n",
            " In 2021 (and again twice in 2022), security updates were expedited, since all Python versions were insecure (including 2.7[55]) because of security issues leading to possible remote code execution[56] and web-cache poisoning. [57] In 2022, Python 3.10.4 and 3.9.12 were expedited[58] and 3.8.13, because of many security issues. [59] When Python 3.9.13 was released in May 2022, it was announced that the 3.9 series (joining the older series 3.8 and 3.7) would only receive security fixes in the future. [60] On 7 September 2022, four new releases were made due to a potential denial-of-service attack: 3.10.7, 3.9.14, 3.8.14, and 3.7.14. [61][62]\n",
            " As of October 2023,[update] Python 3.12 is the stable release, and 3.12 and 3.11 are the only versions with active (as opposed to just security) support. [63]\n",
            " Python 3.12 adds syntax (and in fact every Python since at least 3.5 adds some syntax) to the language, the new (soft) keyword type (recent releases have added a lot of typing support e.g. Since 27 June 2023[update], Python 3.8 is the oldest supported version of Python (albeit in the 'security support' phase), due to Python 3.7 reaching end-of-life. Object-oriented programming and structured programming are fully supported, and many of their features support functional programming and aspect-oriented programming (including metaprogramming[65] and metaobjects). [70] It uses dynamic name resolution (late binding), which binds method and variable names during program execution. [72]\n",
            " Its core philosophy is summarized in the Zen of Python (PEP 20), which includes aphorisms such as:[73]\n",
            " However, Python features regularly violate these principles and received criticism for adding unnecessary language bloat. [77][78]\n",
            " Nevertheless, rather than building all of its functionality into its core, Python was designed to be highly extensible via modules. [40]\n",
            " Python claims to strive for a simpler, less-cluttered syntax and grammar while giving developers a choice in their coding methodology. [73] In practice, however, Python provides many ways to achieve the same task. [79] Alex Martelli, a Fellow at the Python Software Foundation and Python book author, wrote: \"To describe something as 'clever' is not considered a compliment in the Python culture. [81] Execution speed can be improved by moving speed-critical functions to extension modules written in languages such as C, or by using a just-in-time compiler like PyPy. This is reflected in its name—a tribute to the British comedy group Monty Python[83]—and in occasionally playful approaches to tutorials and reference materials, such as the use of the terms \"spam\" and \"eggs\" (a reference to a Monty Python sketch) in examples, instead of the often-used \"foo\" and \"bar\". [84][85]A common neologism in the Python community is pythonic, which has a wide range of meanings related to program style. [88]\n",
            " Python uses whitespace indentation, rather than curly brackets or keywords, to delimit blocks. [91]\n",
            " Python's statements include:\n",
            " The assignment statement (=) binds a name as a reference to a separate, dynamically allocated object. [94][95] However, better support for coroutine-like functionality is provided by extending Python's generators. [97]\n",
            " Python's expressions include:\n",
            " In Python, a distinction between expressions and statements is rigidly enforced, in contrast to languages such as Common Lisp, Scheme, or Ruby. [106] Python also provides methods, often called dunder methods (due to their names beginning and ending with double-underscores), to allow user-defined classes to modify how they are handled by native operations including length, comparison, in arithmetic operations and type conversion. Before version 3.0, Python had two kinds of classes (both using the same syntax): old-style and new-style,[108] current Python versions only support the semantics new style. [110][111] Mypy also supports a Python compiler called mypyc, which leverages type annotations for optimization. [112]\n",
            " 1.33333\n",
            " Python has the usual symbols for arithmetic operators (+, -, *, /), the floor division operator // and the modulo operation % (where the remainder can be negative,  e.g. [116] These operators work like in traditional math; with the same precedence rules, the operators infix (+ and - can also be unary to represent positive and negative numbers respectively). The behavior of division has changed significantly over time:[117]\n",
            " In Python terms, / is true division (or simply division), and // is floor division. However, maintaining the validity of this equation means that while the result of a%b is, as expected, in the half-open interval [0, b), where b is a positive integer, it has to lie in the interval (b, 0] when b is negative. [119] Versions before 3 used round-away-from-zero: round(0.5) is 1.0, round(-0.5) is −1.0. For example, the expression a < b < c tests whether a is less than b and b is less than c.[121] C-derived languages interpret this expression differently: in C, the expression would first evaluate a < b, resulting in 0 or 1, and that result would then be compared with c.[122]\n",
            " Python uses arbitrary-precision arithmetic for all integer operations. [124]\n",
            " Due to Python's extensive mathematics library, and the third-party library NumPy that further extends the native capabilities, it is frequently used as a scientific scripting language to aid in problems such as numerical data processing and manipulation. It includes modules for creating graphical user interfaces, connecting to relational databases, generating pseudorandom numbers, arithmetic with arbitrary-precision decimals,[123] manipulating regular expressions, and unit testing. Some parts of the standard library are covered by specifications—for example, the Web Server Gateway Interface (WSGI) implementation wsgiref follows PEP 333[128]—but most are specified by their code, internal documentation, and test suites. As of 17 March 2024,[update] the Python Package Index (PyPI), the official repository for third-party Python software, contains over 523,000[129] packages with a wide range of functionality, including:\n",
            " Most Python implementations (including CPython) include a read–eval–print loop (REPL), permitting them to function as a command line interpreter for which users enter statements sequentially and receive results immediately. It is written in C, meeting the C89 standard (Python 3.11 uses C11[131]) with several select C99 features. [135] CPython is distributed with a large standard library written in a mixture of C and native Python, and is available for many platforms, including Windows (starting with Python 3.9, the Python installer deliberately fails to install on Windows 7 and 8;[136][137] Windows XP was supported until Python 3.5) and most modern Unix-like systems, including macOS (and Apple M1 Macs, since Python 3.9.1, with experimental installer) and unofficial support for e.g. [139] (During Python 1 and 2 development, even OS/2 and Solaris were supported,[140] but support has since been dropped for many platforms.) Other just-in-time Python compilers have been developed, but are now unsupported:\n",
            " There are several compilers/transpilers to high-level object languages, with either unrestricted Python, a restricted subset of Python, or a language similar to Python as the source language:\n",
            " Specialized:\n",
            " Older projects (or not to be used with Python 3.x and latest syntax):\n",
            " Performance comparison of various Python implementations on a non-numerical (combinatorial) workload was presented at EuroSciPy '13. [169]\n",
            " Python's development is conducted largely through the Python Enhancement Proposal (PEP) process, the primary mechanism for proposing major new features, collecting community input on issues, and documenting Python design decisions. [173] Development originally took place on a self-hosted source-code repository running Mercurial, until Python moved to GitHub in January 2017. [174]\n",
            " CPython's public releases come in three types, distinguished by which part of the version number is incremented:\n",
            " Many alpha, beta, and release-candidates are also released as previews and for testing before final releases. Python 3.12 removed wstr meaning Python extensions[181] need to be modified,[182] and 3.10 added pattern matching to the language. [183]\n",
            " Python 3.12 dropped some outdated modules, and more will be dropped in the future, deprecated as of 3.13; already deprecated array 'u' format code will emit DeprecationWarning since 3.13 and will be removed in Python 3.16. [184]\n",
            " Python's name is derived from the British comedy group Monty Python, whom Python creator Guido van Rossum enjoyed while developing the language. Monty Python references appear frequently in Python code and culture;[185] for example, the metasyntactic variables often used in Python literature are spam and eggs instead of the traditional foo and bar. Since 2003, Python has consistently ranked in the top ten most popular programming languages in the TIOBE Programming Community Index where as of December 2022[update] it was the most popular language (ahead of C, C++, and Java). [38] It was selected Programming Language of the Year (for \"the highest rise in ratings in a year\") in 2007, 2010, 2018, and 2020 (the only language to have done so four times as of 2020[update][190]). [191]\n",
            " Large organizations that use Python include Wikipedia, Google,[192] Yahoo!,[193] CERN,[194] NASA,[195] Facebook,[196] Amazon, Instagram,[197] Spotify,[198] and some smaller entities like ILM[199] and ITA. [201]\n",
            " Python can serve as a scripting language for web applications, e.g. Libraries such as NumPy, SciPy and Matplotlib allow the effective use of Python in scientific computing,[203][204] with specialized libraries such as Biopython and Astropy providing domain-specific functionality. [206]\n",
            " Python is commonly used in artificial intelligence projects and machine learning projects with the help of libraries like TensorFlow, Keras, Pytorch, scikit-learn and the Logic language ProbLog. [207][208][209][210][211] As a scripting language with a modular architecture, simple syntax, and rich text processing tools, Python is often used for natural language processing. [212]\n",
            " The combination of Python and Prolog has proved to be particularly useful for AI applications, with Prolog providing knowledge representation and reasoning capablities. [213][214]\n",
            "The Natlog system, implemented in Python, uses Definite Clause Grammars (DCGs) as prompt generators for text-to-text generators like GPT3 and text-to-image generators like DALL-E or Stable Diffusion. [216][217]\n",
            " Python can also be used to create games, with libraries such as Pygame, which can make 2D games. Python has been successfully embedded in many software products as a scripting language, including in finite element method software such as Abaqus, 3D parametric modelers like FreeCAD, 3D animation packages such as 3ds Max, Blender, Cinema 4D, Lightwave, Houdini, Maya, modo, MotionBuilder, Softimage, the visual effects compositor Nuke, 2D imaging programs like GIMP,[218] Inkscape, Scribus and Paint Shop Pro,[219] and musical notation programs like scorewriter and capella. [220] It has also been used in several video games,[221][222] and has been adopted as first of the three available programming languages in Google App Engine, the other two being Java and Go. It ships with most Linux distributions,[224] AmigaOS 4 (using Python 2.7), FreeBSD (as a package), NetBSD, and OpenBSD (as a package) and can be used from the command line (terminal). [225][226]\n",
            " Most of the Sugar software for the One Laptop per Child XO, developed at Sugar Labs as of 2008[update], is written in Python. For example, the practice of requiring a document describing the rationale for, and issues surrounding, a change to the language (in Python, a PEP) is also used in Tcl,[240] Erlang,[241] and Swift.\n"
          ]
        }
      ],
      "source": [
        "import requests\n",
        "from bs4 import BeautifulSoup\n",
        "from nltk.tokenize import word_tokenize, sent_tokenize\n",
        "from nltk.corpus import stopwords\n",
        "\n",
        "def summarize_url(url):\n",
        "    # Fetch the webpage content\n",
        "    response = requests.get(url)\n",
        "    soup = BeautifulSoup(response.text, 'html.parser')\n",
        "\n",
        "    # Extract text from paragraphs\n",
        "    paragraphs = soup.find_all('p')\n",
        "    text = ' '.join([para.text for para in paragraphs])\n",
        "\n",
        "    # Tokenize and preprocess the text\n",
        "    stopwords1 = set(stopwords.words(\"english\"))\n",
        "    words = word_tokenize(text)\n",
        "    freqTable = {}\n",
        "    for word in words:\n",
        "        word = word.lower()\n",
        "        if word in stopwords1:\n",
        "            continue\n",
        "        if word in freqTable:\n",
        "            freqTable[word] += 1\n",
        "        else:\n",
        "            freqTable[word] = 1\n",
        "\n",
        "    # Calculate sentence values\n",
        "    sentences = sent_tokenize(text)\n",
        "    sentenceValue = {}\n",
        "    for sentence in sentences:\n",
        "        for word, freq in freqTable.items():\n",
        "            if word in sentence.lower():\n",
        "                if sentence in sentenceValue:\n",
        "                    sentenceValue[sentence] += freq\n",
        "                else:\n",
        "                    sentenceValue[sentence] = freq\n",
        "\n",
        "    # Calculate average sentence value\n",
        "    sumValues = sum(sentenceValue.values())\n",
        "    average = int(sumValues / len(sentenceValue))\n",
        "\n",
        "    # Generate summary\n",
        "    summary = ''\n",
        "    for sentence in sentences:\n",
        "        if (sentence in sentenceValue) and (sentenceValue[sentence] > (1.2 * average)):\n",
        "            summary += \" \" + sentence\n",
        "\n",
        "    return summary\n",
        "\n",
        "# Test the function with a Wikipedia link\n",
        "url = 'https://en.wikipedia.org/wiki/Python_(programming_language)'\n",
        "summary = summarize_url(url)\n",
        "print(summary)\n"
      ]
    },
    {
      "cell_type": "code",
      "source": [],
      "metadata": {
        "id": "EgEeHmKz0zq0"
      },
      "execution_count": 2,
      "outputs": []
    }
  ]
}